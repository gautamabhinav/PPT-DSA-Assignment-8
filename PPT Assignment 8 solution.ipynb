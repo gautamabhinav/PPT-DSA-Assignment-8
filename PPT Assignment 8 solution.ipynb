{
 "cells": [
  {
   "cell_type": "code",
   "execution_count": 1,
   "id": "90b524e0",
   "metadata": {},
   "outputs": [
    {
     "name": "stdout",
     "output_type": "stream",
     "text": [
      "231\n"
     ]
    }
   ],
   "source": [
    "#1\n",
    "def minimumDeleteSum(s1, s2, i, j, memo):\n",
    "    # Base cases\n",
    "    if i == len(s1) and j == len(s2):\n",
    "        return 0\n",
    "    if i == len(s1):\n",
    "        return sum(ord(ch) for ch in s2[j:])\n",
    "    if j == len(s2):\n",
    "        return sum(ord(ch) for ch in s1[i:])\n",
    "\n",
    "    # Check if the result is already memoized\n",
    "    if (i, j) in memo:\n",
    "        return memo[(i, j)]\n",
    "\n",
    "    if s1[i] == s2[j]:\n",
    "        # Characters match, no deletion required\n",
    "        memo[(i, j)] = minimumDeleteSum(s1, s2, i + 1, j + 1, memo)\n",
    "    else:\n",
    "        # Delete one character from either s1 or s2\n",
    "        delete_s1 = ord(s1[i]) + minimumDeleteSum(s1, s2, i + 1, j, memo)\n",
    "        delete_s2 = ord(s2[j]) + minimumDeleteSum(s1, s2, i, j + 1, memo)\n",
    "        memo[(i, j)] = min(delete_s1, delete_s2)\n",
    "\n",
    "    return memo[(i, j)]\n",
    "\n",
    "# Test case\n",
    "s1 = \"sea\"\n",
    "s2 = \"eat\"\n",
    "memo = {}\n",
    "result = minimumDeleteSum(s1, s2, 0, 0, memo)\n",
    "print(result)\n"
   ]
  },
  {
   "cell_type": "code",
   "execution_count": 2,
   "id": "107b9fd1",
   "metadata": {},
   "outputs": [
    {
     "name": "stdout",
     "output_type": "stream",
     "text": [
      "True\n"
     ]
    }
   ],
   "source": [
    "#2\n",
    "def isValid(s):\n",
    "    def helper(s, count):\n",
    "        # Base cases\n",
    "        if count < 0:\n",
    "            return False\n",
    "        if not s:\n",
    "            return count == 0\n",
    "\n",
    "        # Recursive cases\n",
    "        if s[0] == '(':\n",
    "            return helper(s[1:], count + 1)  # Treat '(' as left parenthesis\n",
    "        elif s[0] == ')':\n",
    "            return helper(s[1:], count - 1)  # Treat ')' as right parenthesis\n",
    "        else:\n",
    "            return (\n",
    "                helper(s[1:], count) or  # Treat '*' as empty string\n",
    "                helper(s[1:], count + 1) or  # Treat '*' as left parenthesis\n",
    "                helper(s[1:], count - 1)  # Treat '*' as right parenthesis\n",
    "            )\n",
    "\n",
    "    return helper(s, 0)\n",
    "\n",
    "# Test case\n",
    "s = \"()\"\n",
    "result = isValid(s)\n",
    "print(result)\n"
   ]
  },
  {
   "cell_type": "code",
   "execution_count": 3,
   "id": "16cbdd09",
   "metadata": {},
   "outputs": [
    {
     "name": "stdout",
     "output_type": "stream",
     "text": [
      "2\n"
     ]
    }
   ],
   "source": [
    "#3\n",
    "def minSteps(word1, word2):\n",
    "    def helper(i, j):\n",
    "        # Base cases\n",
    "        if i == len(word1):\n",
    "            return len(word2) - j\n",
    "        if j == len(word2):\n",
    "            return len(word1) - i\n",
    "\n",
    "        # Recursive cases\n",
    "        if word1[i] == word2[j]:\n",
    "            return helper(i + 1, j + 1)  # Characters match, no deletion needed\n",
    "        else:\n",
    "            # Delete a character from either word1 or word2\n",
    "            delete1 = helper(i + 1, j) + 1\n",
    "            delete2 = helper(i, j + 1) + 1\n",
    "            return min(delete1, delete2)\n",
    "\n",
    "    return helper(0, 0)\n",
    "\n",
    "# Test case\n",
    "word1 = \"sea\"\n",
    "word2 = \"eat\"\n",
    "result = minSteps(word1, word2)\n",
    "print(result)\n"
   ]
  },
  {
   "cell_type": "code",
   "execution_count": 4,
   "id": "f59908c7",
   "metadata": {},
   "outputs": [
    {
     "name": "stdout",
     "output_type": "stream",
     "text": [
      "[4, 2, 6, 3, 1, 5]\n"
     ]
    }
   ],
   "source": [
    "#4\n",
    "from collections import deque\n",
    "\n",
    "class TreeNode:\n",
    "    def __init__(self, val=0, left=None, right=None):\n",
    "        self.val = val\n",
    "        self.left = left\n",
    "        self.right = right\n",
    "\n",
    "def str2tree(s):\n",
    "    if not s:\n",
    "        return None\n",
    "\n",
    "    stack = []\n",
    "    i = 0\n",
    "    while i < len(s):\n",
    "        if s[i] == ')':\n",
    "            stack.pop()\n",
    "            i += 1\n",
    "        elif s[i] == '(':\n",
    "            i += 1\n",
    "        else:\n",
    "            j = i\n",
    "            while j < len(s) and s[j] not in ['(', ')']:\n",
    "                j += 1\n",
    "            val = int(s[i:j])\n",
    "            node = TreeNode(val)\n",
    "            if stack:\n",
    "                parent = stack[-1]\n",
    "                if not parent.left:\n",
    "                    parent.left = node\n",
    "                else:\n",
    "                    parent.right = node\n",
    "            stack.append(node)\n",
    "            i = j\n",
    "\n",
    "    root = stack[0]\n",
    "    return root\n",
    "\n",
    "def levelOrderTraversal(root):\n",
    "    if not root:\n",
    "        return []\n",
    "\n",
    "    result = []\n",
    "    queue = deque()\n",
    "    queue.append(root)\n",
    "\n",
    "    while queue:\n",
    "        level_size = len(queue)\n",
    "        level_vals = []\n",
    "\n",
    "        for _ in range(level_size):\n",
    "            node = queue.popleft()\n",
    "            level_vals.append(node.val)\n",
    "\n",
    "            if node.left:\n",
    "                queue.append(node.left)\n",
    "            if node.right:\n",
    "                queue.append(node.right)\n",
    "\n",
    "        result.extend(level_vals)\n",
    "\n",
    "    return result\n",
    "\n",
    "# Example usage\n",
    "s = \"4(2(3)(1))(6(5))\"\n",
    "root = str2tree(s)\n",
    "output = levelOrderTraversal(root)\n",
    "print(output)\n"
   ]
  },
  {
   "cell_type": "code",
   "execution_count": 5,
   "id": "ff4a9d33",
   "metadata": {},
   "outputs": [
    {
     "name": "stdout",
     "output_type": "stream",
     "text": [
      "6\n",
      "['a', '2', 'b', '2', 'c', '3']\n"
     ]
    }
   ],
   "source": [
    "#5\n",
    "def compress(chars):\n",
    "    write_index = 0\n",
    "    count = 1\n",
    "\n",
    "    for i in range(1, len(chars)):\n",
    "        if chars[i] == chars[i - 1]:\n",
    "            count += 1\n",
    "        else:\n",
    "            chars[write_index] = chars[i - 1]\n",
    "            write_index += 1\n",
    "\n",
    "            if count > 1:\n",
    "                count_str = str(count)\n",
    "                chars[write_index:write_index + len(count_str)] = list(count_str)\n",
    "                write_index += len(count_str)\n",
    "\n",
    "            count = 1\n",
    "\n",
    "    chars[write_index] = chars[-1]\n",
    "    write_index += 1\n",
    "\n",
    "    if count > 1:\n",
    "        count_str = str(count)\n",
    "        chars[write_index:write_index + len(count_str)] = list(count_str)\n",
    "        write_index += len(count_str)\n",
    "\n",
    "    return write_index\n",
    "\n",
    "\n",
    "chars = [\"a\", \"a\", \"b\", \"b\", \"c\", \"c\", \"c\"]\n",
    "new_length = compress(chars)\n",
    "print(new_length)\n",
    "print(chars[:new_length])\n"
   ]
  },
  {
   "cell_type": "code",
   "execution_count": 6,
   "id": "2538fba5",
   "metadata": {},
   "outputs": [
    {
     "name": "stdout",
     "output_type": "stream",
     "text": [
      "[0, 6]\n"
     ]
    }
   ],
   "source": [
    "#6\n",
    "from collections import Counter\n",
    "\n",
    "def findAnagrams(s, p):\n",
    "    result = []\n",
    "    window_size = len(p)\n",
    "    target_count = Counter(p)\n",
    "    window_count = Counter(s[:window_size])\n",
    "\n",
    "    if window_count == target_count:\n",
    "        result.append(0)\n",
    "\n",
    "    for i in range(1, len(s) - window_size + 1):\n",
    "        # Update the window count by removing the character at the previous window's start and adding the character at the current window's end\n",
    "        window_count[s[i - 1]] -= 1\n",
    "        if window_count[s[i - 1]] == 0:\n",
    "            del window_count[s[i - 1]]\n",
    "\n",
    "        window_count[s[i + window_size - 1]] += 1\n",
    "\n",
    "        if window_count == target_count:\n",
    "            result.append(i)\n",
    "\n",
    "    return result\n",
    "\n",
    "\n",
    "\n",
    "\n",
    "s = \"cbaebabacd\"\n",
    "p = \"abc\"\n",
    "result = findAnagrams(s, p)\n",
    "print(result)\n"
   ]
  },
  {
   "cell_type": "code",
   "execution_count": 7,
   "id": "39757517",
   "metadata": {},
   "outputs": [
    {
     "name": "stdout",
     "output_type": "stream",
     "text": [
      "aaabcbc\n"
     ]
    }
   ],
   "source": [
    "#7\n",
    "def decodeString(s):\n",
    "    def decodeHelper(s, i):\n",
    "        decoded = \"\"\n",
    "        while i < len(s) and s[i] != ']':\n",
    "            if not s[i].isdigit():\n",
    "                decoded += s[i]\n",
    "                i += 1\n",
    "            else:\n",
    "                # Get the repetition count\n",
    "                count = 0\n",
    "                while s[i].isdigit():\n",
    "                    count = count * 10 + int(s[i])\n",
    "                    i += 1\n",
    "                \n",
    "                # Skip the opening bracket '['\n",
    "                i += 1\n",
    "                \n",
    "                # Decode the enclosed string recursively\n",
    "                sub_str, i = decodeHelper(s, i)\n",
    "                \n",
    "                # Repeat the decoded string\n",
    "                decoded += sub_str * count\n",
    "                \n",
    "                # Skip the closing bracket ']'\n",
    "                i += 1\n",
    "        \n",
    "        return decoded, i\n",
    "    \n",
    "    return decodeHelper(s, 0)[0]\n",
    "\n",
    "\n",
    "\n",
    "\n",
    "s = \"3[a]2[bc]\"\n",
    "result = decodeString(s)\n",
    "print(result)\n"
   ]
  },
  {
   "cell_type": "code",
   "execution_count": 8,
   "id": "8b8d4544",
   "metadata": {},
   "outputs": [
    {
     "name": "stdout",
     "output_type": "stream",
     "text": [
      "True\n"
     ]
    }
   ],
   "source": [
    "#8\n",
    "def canSwapStrings(s, goal):\n",
    "    def swapHelper(s, goal, i, j):\n",
    "        if s == goal:\n",
    "            return True\n",
    "        \n",
    "        if i >= len(s) or j >= len(s):\n",
    "            return False\n",
    "        \n",
    "        if s[i] == goal[i] and s[j] == goal[j]:\n",
    "            return swapHelper(s, goal, i+1, j+1)\n",
    "        \n",
    "        if s[i] == goal[j] and s[j] == goal[i]:\n",
    "            new_s = list(s)\n",
    "            new_s[i], new_s[j] = new_s[j], new_s[i]\n",
    "            return swapHelper(\"\".join(new_s), goal, i+1, j+1)\n",
    "        \n",
    "        return False\n",
    "    \n",
    "    return swapHelper(s, goal, 0, 1) or swapHelper(s, goal, 1, 0)\n",
    "\n",
    "\n",
    "s = \"ab\"\n",
    "goal = \"ba\"\n",
    "result = canSwapStrings(s, goal)\n",
    "print(result)\n"
   ]
  },
  {
   "cell_type": "code",
   "execution_count": null,
   "id": "9e25aa1f",
   "metadata": {},
   "outputs": [],
   "source": []
  }
 ],
 "metadata": {
  "kernelspec": {
   "display_name": "Python 3 (ipykernel)",
   "language": "python",
   "name": "python3"
  },
  "language_info": {
   "codemirror_mode": {
    "name": "ipython",
    "version": 3
   },
   "file_extension": ".py",
   "mimetype": "text/x-python",
   "name": "python",
   "nbconvert_exporter": "python",
   "pygments_lexer": "ipython3",
   "version": "3.10.5"
  }
 },
 "nbformat": 4,
 "nbformat_minor": 5
}
